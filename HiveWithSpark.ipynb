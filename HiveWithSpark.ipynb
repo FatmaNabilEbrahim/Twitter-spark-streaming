{
 "cells": [
  {
   "cell_type": "code",
   "execution_count": 2,
   "id": "d0e22fc8-df85-4c4a-a497-cab7860745fa",
   "metadata": {},
   "outputs": [],
   "source": [
    "from pyspark.sql import SparkSession\n",
    "\n",
    "# Create a SparkSession with Hive support\n",
    "spark = SparkSession.builder \\\n",
    "    .appName(\"MyApp\") \\\n",
    "    .config(\"spark.sql.warehouse.dir\", \"/user/hive/warehouse\") \\\n",
    "    .enableHiveSupport() \\\n",
    "    .getOrCreate()"
   ]
  },
  {
   "cell_type": "code",
   "execution_count": 3,
   "id": "f315fd47-0e5a-4b2a-a827-12dd9d2a710b",
   "metadata": {},
   "outputs": [
    {
     "name": "stdout",
     "output_type": "stream",
     "text": [
      "+--------+\n",
      "|count(1)|\n",
      "+--------+\n",
      "|   14300|\n",
      "+--------+\n",
      "\n"
     ]
    }
   ],
   "source": [
    "# Execute a query on a Hive table\n",
    "result_df = spark.sql(\"SELECT count(*) FROM twitter_data.tweets \")\n",
    "\n",
    "# Show the results\n",
    "result_df.show()"
   ]
  },
  {
   "cell_type": "code",
   "execution_count": 4,
   "id": "868e0a28-5864-4d51-87ca-46df99fdacfd",
   "metadata": {},
   "outputs": [
    {
     "name": "stdout",
     "output_type": "stream",
     "text": [
      "+-------------------+--------------------+-------------------+-------------+-----------+----------+-----------+-------------------+--------------------+---------------+---------------+---------------+-----------+------------+--------+----+-----+---+----+\n",
      "|                 id|                text|          author_id|retweet_count|reply_count|like_count|quote_count|         created_at|                name|       username|followers_count|following_count|tweet_count|listed_count|verified|year|month|day|hour|\n",
      "+-------------------+--------------------+-------------------+-------------+-----------+----------+-----------+-------------------+--------------------+---------------+---------------+---------------+-----------+------------+--------+----+-----+---+----+\n",
      "|1654239177595146240|RT : Omdurman Mid...| 711486983655301121|           26|          0|         0|          0|2023-05-04 21:38:48|              Hisham|    hishamjr145|            335|            376|      10988|           2|   false|2023|    5|  4|  21|\n",
      "|1654239165159034880|RT : Those in Sud...|         3134827066|          162|          0|         0|          0|2023-05-04 21:38:45|    Jonathan Abuajah|       jabuajah|            517|            422|     105996|           0|   false|2023|    5|  4|  21|\n",
      "|1654239163560996865|The US just broug...|1283731444830023680|            0|          0|         0|          0|2023-05-04 21:38:45|  Fidel Slim Guevara|    Slimchineme|            843|           1046|      16971|           0|   false|2023|    5|  4|  21|\n",
      "|1654239162214797312|RT : After she fl...| 738952995136667649|           45|          0|         0|          0|2023-05-04 21:38:45| Freedom for Tigray!|  HGebreslassie|           1623|           1731|      68648|           1|   false|2023|    5|  4|  21|\n",
      "|1654239160624992256|RT : My only fear...|           61762023|          364|          0|         0|          0|2023-05-04 21:38:44|           Oluwaseun|     deolujames|           1950|           1058|     404521|          51|   false|2023|    5|  4|  21|\n",
      "|1654239156891951108|RT : After she fl...|1496586301486809094|           55|          0|         0|          0|2023-05-04 21:38:43|             🔜Samri|Samrawitkalayu7|           3968|           1492|     646624|           2|   false|2023|    5|  4|  21|\n",
      "|1654239147459059714|RT : According to...|1552714383444381696|           29|          0|         0|          0|2023-05-04 21:38:41|         Raki Hope🍋|   TrRt37484495|           1850|            934|     534511|           1|   false|2023|    5|  4|  21|\n",
      "|1654239142824546305|RT : I am surpris...|1547945567245832194|           46|          0|         0|          0|2023-05-04 21:38:40|      Abubakar shehu|Abubaka66532343|             51|             72|        969|           0|   false|2023|    5|  4|  21|\n",
      "|1654239134410502148|RT : We are alarm...|1501279581311021057|            7|          0|         0|          0|2023-05-04 21:38:38|      Tsgie 📢❤️💛💊|  Tembieneyti14|           1849|           1009|     424754|           0|   false|2023|    5|  4|  21|\n",
      "|1654239118975553542|RT : Current conf...|          217449520|          114|          0|         0|          0|2023-05-04 21:38:34|         Mark Baxter|   MarkRsbackie|             93|            184|        763|           0|   false|2023|    5|  4|  21|\n",
      "|1654239107072028672|RT : Allen Onyeam...|          610698950|            8|          0|         0|          0|2023-05-04 21:38:32|General Omorogbe ...|  OmorogbeHarry|            892|           1550|     103560|           0|   false|2023|    5|  4|  21|\n",
      "|1654239102244384770|RT : Sudan Ambass...|1217979669988900864|            9|          0|         0|          0|2023-05-04 21:38:30|          Msaddamabk|     msaddamabk|            555|           4456|       4449|           4|   false|2023|    5|  4|  21|\n",
      "|1654239094342287361|RT : Around 30 bu...|         3165729360|           11|          0|         0|          0|2023-05-04 21:38:29|       Georges Fahmi|   GeorgesFahmi|           3217|           1631|       4105|          44|   false|2023|    5|  4|  21|\n",
      "|1654239088268943360|RT : According Pr...|1496586301486809094|           21|          0|         0|          0|2023-05-04 21:38:27|             🔜Samri|Samrawitkalayu7|           3968|           1492|     646624|           2|   false|2023|    5|  4|  21|\n",
      "|1654239082405326849|RT : The empire’s...|1497258299020001286|            3|          0|         0|          0|2023-05-04 21:38:26|👑AFelixebi5 Feli...|    Afelixebi5F|            683|           1165|      48563|           3|   false|2023|    5|  4|  21|\n",
      "|1654239068937506816|RT : According Pr...|1431333358529826820|           52|          0|         0|          0|2023-05-04 21:38:22|            susu70👸|  susutigraweit|           8858|           2122|     380722|           3|   false|2023|    5|  4|  21|\n",
      "|1654239061224112130|RT : FACT-CHECK: ...|           25603389|           65|          0|         0|          0|2023-05-04 21:38:21|      Engineer Bolex|  engineerbolex|           7553|           8340|     110279|          10|   false|2023|    5|  4|  21|\n",
      "|1654239059311460355|RT : Tigryan refu...|1573068165524996096|           55|          0|         0|          0|2023-05-04 21:38:20|    Tsige Geberhiwot|       TsigeG21|           1055|           1131|      69471|           0|   false|2023|    5|  4|  21|\n",
      "|1654239051052982272|RT :  󠁧󠁢󠁳󠁣󠁴?...|          298141700|           51|          0|         0|          0|2023-05-04 21:38:18|Raibeart MacunOig...|  Benlinebandit|           1214|           1916|      38186|           5|   false|2023|    5|  4|  21|\n",
      "|1654239047424851968|RT : “We are worr...|1573068165524996096|           65|          0|         0|          0|2023-05-04 21:38:17|    Tsige Geberhiwot|       TsigeG21|           1055|           1131|      69471|           0|   false|2023|    5|  4|  21|\n",
      "+-------------------+--------------------+-------------------+-------------+-----------+----------+-----------+-------------------+--------------------+---------------+---------------+---------------+-----------+------------+--------+----+-----+---+----+\n",
      "\n"
     ]
    }
   ],
   "source": [
    "firstRows_DF=spark.sql(\"select * from twitter_data.tweets limit 20 \")\n",
    "firstRows_DF.show()"
   ]
  },
  {
   "cell_type": "code",
   "execution_count": 5,
   "id": "20cbb534-4bae-4704-a34d-481a0953f580",
   "metadata": {},
   "outputs": [
    {
     "data": {
      "text/html": [
       "<table border='1'>\n",
       "<tr><th></th></tr>\n",
       "</table>\n"
      ],
      "text/plain": [
       "++\n",
       "||\n",
       "++\n",
       "++"
      ]
     },
     "execution_count": 5,
     "metadata": {},
     "output_type": "execute_result"
    }
   ],
   "source": [
    "spark.sql(\"\"\"\n",
    "    CREATE EXTERNAL TABLE IF NOT EXISTS twitter_data.users_dim (\n",
    "        author_id STRING,\n",
    "        id STRING,\n",
    "        name STRING,\n",
    "        username STRING,\n",
    "        followers_count INT,\n",
    "        following_count INT,\n",
    "        tweet_count INT,\n",
    "        listed_count INT,\n",
    "        verified STRING\n",
    "    )\n",
    "    PARTITIONED BY (year INT, month INT, day INT)\n",
    "    STORED AS PARQUET\n",
    "    LOCATION '/FileStore/twitter_data/users_dim'\n",
    "\"\"\")\n"
   ]
  },
  {
   "cell_type": "code",
   "execution_count": 6,
   "id": "ef882f19-0ccd-4e6e-8373-7920407f1cf6",
   "metadata": {},
   "outputs": [
    {
     "data": {
      "text/html": [
       "<table border='1'>\n",
       "<tr><th></th></tr>\n",
       "</table>\n"
      ],
      "text/plain": [
       "++\n",
       "||\n",
       "++\n",
       "++"
      ]
     },
     "execution_count": 6,
     "metadata": {},
     "output_type": "execute_result"
    }
   ],
   "source": [
    "\n",
    "spark.sql(\"\"\"\n",
    "    INSERT OVERWRITE TABLE twitter_data.users_dim\n",
    "    PARTITION (year, month, day)\n",
    "    SELECT author_id, id, name, username, followers_count, following_count, tweet_count, listed_count, verified, year(created_at) AS year, month(created_at) AS month, day(created_at) AS day\n",
    "    FROM twitter_data.tweets\n",
    "\"\"\")"
   ]
  },
  {
   "cell_type": "code",
   "execution_count": 7,
   "id": "36462a18-d0fd-4c21-978c-88e3f11984c4",
   "metadata": {},
   "outputs": [
    {
     "data": {
      "text/html": [
       "<table border='1'>\n",
       "<tr><th>author_id</th><th>id</th><th>name</th><th>username</th><th>followers_count</th><th>following_count</th><th>tweet_count</th><th>listed_count</th><th>verified</th><th>year</th><th>month</th><th>day</th></tr>\n",
       "<tr><td>1496586301486809094</td><td>1654239162386591745</td><td>🔜Samri</td><td>Samrawitkalayu7</td><td>3968</td><td>1492</td><td>646616</td><td>2</td><td>false</td><td>2023</td><td>5</td><td>4</td></tr>\n",
       "<tr><td>1573068165524996096</td><td>1654239161543454726</td><td>Tsige Geberhiwot</td><td>TsigeG21</td><td>1055</td><td>1130</td><td>69471</td><td>0</td><td>false</td><td>2023</td><td>5</td><td>4</td></tr>\n",
       "<tr><td>1492197849760677897</td><td>1654239159106584578</td><td>Aluma🦋</td><td>AlumaAlumaa</td><td>5318</td><td>1229</td><td>382434</td><td>0</td><td>false</td><td>2023</td><td>5</td><td>4</td></tr>\n",
       "</table>\n"
      ],
      "text/plain": [
       "+-------------------+-------------------+----------------+---------------+---------------+---------------+-----------+------------+--------+----+-----+---+\n",
       "|          author_id|                 id|            name|       username|followers_count|following_count|tweet_count|listed_count|verified|year|month|day|\n",
       "+-------------------+-------------------+----------------+---------------+---------------+---------------+-----------+------------+--------+----+-----+---+\n",
       "|1496586301486809094|1654239162386591745|         🔜Samri|Samrawitkalayu7|           3968|           1492|     646616|           2|   false|2023|    5|  4|\n",
       "|1573068165524996096|1654239161543454726|Tsige Geberhiwot|       TsigeG21|           1055|           1130|      69471|           0|   false|2023|    5|  4|\n",
       "|1492197849760677897|1654239159106584578|         Aluma🦋|    AlumaAlumaa|           5318|           1229|     382434|           0|   false|2023|    5|  4|\n",
       "+-------------------+-------------------+----------------+---------------+---------------+---------------+-----------+------------+--------+----+-----+---+"
      ]
     },
     "execution_count": 7,
     "metadata": {},
     "output_type": "execute_result"
    }
   ],
   "source": [
    "spark.sql(\"\"\"\n",
    "select * from twitter_data.users_dim\n",
    "limit 3\n",
    "\"\"\")"
   ]
  },
  {
   "cell_type": "code",
   "execution_count": 8,
   "id": "afec90bc-9754-4815-805c-3fbd07b7aea8",
   "metadata": {},
   "outputs": [
    {
     "data": {
      "text/html": [
       "<table border='1'>\n",
       "<tr><th></th></tr>\n",
       "</table>\n"
      ],
      "text/plain": [
       "++\n",
       "||\n",
       "++\n",
       "++"
      ]
     },
     "execution_count": 8,
     "metadata": {},
     "output_type": "execute_result"
    }
   ],
   "source": [
    "spark.sql(\"\"\"CREATE EXTERNAL TABLE IF NOT EXISTS twitter_data.tweets_dim (\n",
    "    id STRING ,\n",
    "    text STRING,\n",
    "    author_id STRING,\n",
    "    retweet_count INT,\n",
    "    reply_count INT,\n",
    "    like_count INT,\n",
    "    quote_count INT,\n",
    "    created_at TIMESTAMP\n",
    "   \n",
    ") PARTITIONED BY (year INT, month INT, day INT, hour INT)\n",
    "STORED AS PARQUET\n",
    "LOCATION '/FileStore/twitter_data/tweets_dim';\n",
    "\"\"\")\n"
   ]
  },
  {
   "cell_type": "code",
   "execution_count": 9,
   "id": "1228c2f9-4733-4a04-8841-6223b1c9ac14",
   "metadata": {},
   "outputs": [
    {
     "data": {
      "text/html": [
       "<table border='1'>\n",
       "<tr><th></th></tr>\n",
       "</table>\n"
      ],
      "text/plain": [
       "++\n",
       "||\n",
       "++\n",
       "++"
      ]
     },
     "execution_count": 9,
     "metadata": {},
     "output_type": "execute_result"
    }
   ],
   "source": [
    "spark.sql(\"\"\"\n",
    "INSERT OVERWRITE TABLE twitter_data.tweets_dim\n",
    "PARTITION (year, month, day, hour)\n",
    "SELECT id, text, author_id, retweet_count, reply_count, like_count, quote_count, created_at, year(created_at) as year, month(created_at) as month, day(created_at) as day, hour(created_at) as hour\n",
    "FROM twitter_data.tweets\n",
    "\"\"\")"
   ]
  },
  {
   "cell_type": "code",
   "execution_count": 10,
   "id": "ec16de40-a4ef-4395-8cce-1d10b493edea",
   "metadata": {},
   "outputs": [
    {
     "data": {
      "text/html": [
       "<table border='1'>\n",
       "<tr><th>id</th><th>text</th><th>author_id</th><th>retweet_count</th><th>reply_count</th><th>like_count</th><th>quote_count</th><th>created_at</th><th>year</th><th>month</th><th>day</th><th>hour</th></tr>\n",
       "<tr><td>1654239162386591745</td><td>RT : Tigryan refu...</td><td>1496586301486809094</td><td>41</td><td>0</td><td>0</td><td>0</td><td>2023-05-04 21:38:45</td><td>2023</td><td>5</td><td>4</td><td>21</td></tr>\n",
       "<tr><td>1654239161543454726</td><td>RT : After she fl...</td><td>1573068165524996096</td><td>24</td><td>0</td><td>0</td><td>0</td><td>2023-05-04 21:38:45</td><td>2023</td><td>5</td><td>4</td><td>21</td></tr>\n",
       "<tr><td>1654239159106584578</td><td>RT : After she fl...</td><td>1492197849760677897</td><td>46</td><td>0</td><td>0</td><td>0</td><td>2023-05-04 21:38:44</td><td>2023</td><td>5</td><td>4</td><td>21</td></tr>\n",
       "</table>\n"
      ],
      "text/plain": [
       "+-------------------+--------------------+-------------------+-------------+-----------+----------+-----------+-------------------+----+-----+---+----+\n",
       "|                 id|                text|          author_id|retweet_count|reply_count|like_count|quote_count|         created_at|year|month|day|hour|\n",
       "+-------------------+--------------------+-------------------+-------------+-----------+----------+-----------+-------------------+----+-----+---+----+\n",
       "|1654238944639213569|RT : Time for the...|1580316558588579841|           20|          0|         0|          0|2023-05-04 21:37:53|2023|    5|  4|  21|\n",
       "|1654238944534437889|My grandkids came...|         2952180689|            0|          0|         4|          0|2023-05-04 21:37:53|2023|    5|  4|  21|\n",
       "|1654238937366290435|RT : The #US need...|1636771660438159364|          100|          0|         0|          0|2023-05-04 21:37:51|2023|    5|  4|  21|\n",
       "+-------------------+--------------------+-------------------+-------------+-----------+----------+-----------+-------------------+----+-----+---+----+"
      ]
     },
     "execution_count": 10,
     "metadata": {},
     "output_type": "execute_result"
    }
   ],
   "source": [
    "spark.sql(\"\"\"\n",
    "select * from twitter_data.tweets_dim\n",
    "limit 3\n",
    "\"\"\")"
   ]
  },
  {
   "cell_type": "code",
   "execution_count": 11,
   "id": "8f96c539-fe10-4c92-8bc2-73e18d559aed",
   "metadata": {},
   "outputs": [
    {
     "data": {
      "text/html": [
       "<table border='1'>\n",
       "<tr><th></th></tr>\n",
       "</table>\n"
      ],
      "text/plain": [
       "++\n",
       "||\n",
       "++\n",
       "++"
      ]
     },
     "execution_count": 11,
     "metadata": {},
     "output_type": "execute_result"
    }
   ],
   "source": [
    "spark.sql(\"\"\"CREATE EXTERNAL TABLE IF NOT EXISTS twitter_data.author_matrix (\n",
    "    author_id STRING,\n",
    "    tweet_id STRING\n",
    ") PARTITIONED BY (year INT, month INT, day INT, hour INT)\n",
    "STORED AS PARQUET\n",
    "LOCATION '/FileStore/twitter_data/author_matrix';\n",
    "\"\"\")\n",
    "\n",
    "spark.sql(\"\"\"INSERT OVERWRITE TABLE twitter_data.author_matrix\n",
    "PARTITION (year, month, day, hour)\n",
    "SELECT author_id, id as tweet_id, year(created_at) as year, month(created_at) as month, day(created_at) as day, hour(created_at) as hour\n",
    "FROM twitter_data.tweets_dim;\n",
    "\"\"\")\n"
   ]
  },
  {
   "cell_type": "code",
   "execution_count": 12,
   "id": "b6e0b5e0-110a-4e23-8e51-3eda7f769d52",
   "metadata": {},
   "outputs": [
    {
     "data": {
      "text/html": [
       "<table border='1'>\n",
       "<tr><th>author_id</th><th>tweet_id</th><th>year</th><th>month</th><th>day</th><th>hour</th></tr>\n",
       "<tr><td>1496586301486809094</td><td>1654239162386591745</td><td>2023</td><td>5</td><td>4</td><td>21</td></tr>\n",
       "<tr><td>1573068165524996096</td><td>1654239161543454726</td><td>2023</td><td>5</td><td>4</td><td>21</td></tr>\n",
       "<tr><td>1492197849760677897</td><td>1654239159106584578</td><td>2023</td><td>5</td><td>4</td><td>21</td></tr>\n",
       "</table>\n"
      ],
      "text/plain": [
       "+-------------------+-------------------+----+-----+---+----+\n",
       "|          author_id|           tweet_id|year|month|day|hour|\n",
       "+-------------------+-------------------+----+-----+---+----+\n",
       "|1496586301486809094|1654239162386591745|2023|    5|  4|  21|\n",
       "|1573068165524996096|1654239161543454726|2023|    5|  4|  21|\n",
       "|1492197849760677897|1654239159106584578|2023|    5|  4|  21|\n",
       "+-------------------+-------------------+----+-----+---+----+"
      ]
     },
     "execution_count": 12,
     "metadata": {},
     "output_type": "execute_result"
    }
   ],
   "source": [
    "spark.sql(\"\"\"\n",
    "select * from twitter_data.author_matrix\n",
    "limit 3\n",
    "\"\"\")"
   ]
  },
  {
   "cell_type": "code",
   "execution_count": 13,
   "id": "51098ac6-c6d8-45af-b6ba-f50dd52aadd2",
   "metadata": {},
   "outputs": [
    {
     "data": {
      "text/html": [
       "<table border='1'>\n",
       "<tr><th></th></tr>\n",
       "</table>\n"
      ],
      "text/plain": [
       "++\n",
       "||\n",
       "++\n",
       "++"
      ]
     },
     "execution_count": 13,
     "metadata": {},
     "output_type": "execute_result"
    }
   ],
   "source": [
    "spark.sql(\"\"\"\n",
    "CREATE EXTERNAL TABLE IF NOT EXISTS twitter_data.time_dim (\n",
    "    time_id INT,\n",
    "    created_at TIMESTAMP\n",
    ")\n",
    "PARTITIONED BY (year INT, month INT, day INT, hour INT)\n",
    "STORED AS PARQUET\n",
    "LOCATION '/FileStore/twitter_data/time_dim';\n",
    "\"\"\")\n",
    "\n",
    "spark.sql(\"\"\"\n",
    "INSERT OVERWRITE TABLE twitter_data.time_dim\n",
    "PARTITION (year, month, day, hour)\n",
    "SELECT\n",
    "ROW_NUMBER() OVER (ORDER BY created_at) AS time_id,\n",
    "created_at, year, month,day,hour\n",
    "FROM twitter_data.time_dim;\n",
    "\"\"\")\n"
   ]
  },
  {
   "cell_type": "code",
   "execution_count": 14,
   "id": "3b3777c5-2591-4734-84a5-6f6b878d86fd",
   "metadata": {},
   "outputs": [
    {
     "data": {
      "text/html": [
       "<table border='1'>\n",
       "<tr><th>time_id</th><th>created_at</th><th>year</th><th>month</th><th>day</th><th>hour</th></tr>\n",
       "</table>\n"
      ],
      "text/plain": [
       "+-------+----------+----+-----+---+----+\n",
       "|time_id|created_at|year|month|day|hour|\n",
       "+-------+----------+----+-----+---+----+\n",
       "+-------+----------+----+-----+---+----+"
      ]
     },
     "execution_count": 14,
     "metadata": {},
     "output_type": "execute_result"
    }
   ],
   "source": [
    "spark.sql(\"\"\"\n",
    "select * from twitter_data.time_dim \n",
    "limit 3\n",
    "\"\"\")"
   ]
  },
  {
   "cell_type": "code",
   "execution_count": 15,
   "id": "26c4666e-cfac-4e93-9501-aefaebc62888",
   "metadata": {},
   "outputs": [
    {
     "ename": "AnalysisException",
     "evalue": "partition column year is not defined in table twitter_data.tweets_more_than_50, defined table columns are: hour, tweets_count, earliest_created_at",
     "output_type": "error",
     "traceback": [
      "\u001b[0;31m---------------------------------------------------------------------------\u001b[0m",
      "\u001b[0;31mAnalysisException\u001b[0m                         Traceback (most recent call last)",
      "\u001b[0;32m<ipython-input-15-99d42ee22a83>\u001b[0m in \u001b[0;36m<module>\u001b[0;34m\u001b[0m\n\u001b[1;32m      7\u001b[0m \u001b[0mSTORED\u001b[0m \u001b[0mAS\u001b[0m \u001b[0mPARQUET\u001b[0m\u001b[0;34m\u001b[0m\u001b[0;34m\u001b[0m\u001b[0m\n\u001b[1;32m      8\u001b[0m \u001b[0mLOCATION\u001b[0m \u001b[0;34m'/FileStore/twitter_data/tweets_more_than_50'\u001b[0m\u001b[0;34m;\u001b[0m\u001b[0;34m\u001b[0m\u001b[0;34m\u001b[0m\u001b[0m\n\u001b[0;32m----> 9\u001b[0;31m \"\"\")\n\u001b[0m\u001b[1;32m     10\u001b[0m \u001b[0;34m\u001b[0m\u001b[0m\n\u001b[1;32m     11\u001b[0m spark.sql(\"\"\"\n",
      "\u001b[0;32m/opt/spark3/python/pyspark/sql/session.py\u001b[0m in \u001b[0;36msql\u001b[0;34m(self, sqlQuery)\u001b[0m\n\u001b[1;32m    721\u001b[0m         \u001b[0;34m[\u001b[0m\u001b[0mRow\u001b[0m\u001b[0;34m(\u001b[0m\u001b[0mf1\u001b[0m\u001b[0;34m=\u001b[0m\u001b[0;36m1\u001b[0m\u001b[0;34m,\u001b[0m \u001b[0mf2\u001b[0m\u001b[0;34m=\u001b[0m\u001b[0;34m'row1'\u001b[0m\u001b[0;34m)\u001b[0m\u001b[0;34m,\u001b[0m \u001b[0mRow\u001b[0m\u001b[0;34m(\u001b[0m\u001b[0mf1\u001b[0m\u001b[0;34m=\u001b[0m\u001b[0;36m2\u001b[0m\u001b[0;34m,\u001b[0m \u001b[0mf2\u001b[0m\u001b[0;34m=\u001b[0m\u001b[0;34m'row2'\u001b[0m\u001b[0;34m)\u001b[0m\u001b[0;34m,\u001b[0m \u001b[0mRow\u001b[0m\u001b[0;34m(\u001b[0m\u001b[0mf1\u001b[0m\u001b[0;34m=\u001b[0m\u001b[0;36m3\u001b[0m\u001b[0;34m,\u001b[0m \u001b[0mf2\u001b[0m\u001b[0;34m=\u001b[0m\u001b[0;34m'row3'\u001b[0m\u001b[0;34m)\u001b[0m\u001b[0;34m]\u001b[0m\u001b[0;34m\u001b[0m\u001b[0;34m\u001b[0m\u001b[0m\n\u001b[1;32m    722\u001b[0m         \"\"\"\n\u001b[0;32m--> 723\u001b[0;31m         \u001b[0;32mreturn\u001b[0m \u001b[0mDataFrame\u001b[0m\u001b[0;34m(\u001b[0m\u001b[0mself\u001b[0m\u001b[0;34m.\u001b[0m\u001b[0m_jsparkSession\u001b[0m\u001b[0;34m.\u001b[0m\u001b[0msql\u001b[0m\u001b[0;34m(\u001b[0m\u001b[0msqlQuery\u001b[0m\u001b[0;34m)\u001b[0m\u001b[0;34m,\u001b[0m \u001b[0mself\u001b[0m\u001b[0;34m.\u001b[0m\u001b[0m_wrapped\u001b[0m\u001b[0;34m)\u001b[0m\u001b[0;34m\u001b[0m\u001b[0;34m\u001b[0m\u001b[0m\n\u001b[0m\u001b[1;32m    724\u001b[0m \u001b[0;34m\u001b[0m\u001b[0m\n\u001b[1;32m    725\u001b[0m     \u001b[0;32mdef\u001b[0m \u001b[0mtable\u001b[0m\u001b[0;34m(\u001b[0m\u001b[0mself\u001b[0m\u001b[0;34m,\u001b[0m \u001b[0mtableName\u001b[0m\u001b[0;34m)\u001b[0m\u001b[0;34m:\u001b[0m\u001b[0;34m\u001b[0m\u001b[0;34m\u001b[0m\u001b[0m\n",
      "\u001b[0;32m/opt/spark3/python/lib/py4j-0.10.9-src.zip/py4j/java_gateway.py\u001b[0m in \u001b[0;36m__call__\u001b[0;34m(self, *args)\u001b[0m\n\u001b[1;32m   1303\u001b[0m         \u001b[0manswer\u001b[0m \u001b[0;34m=\u001b[0m \u001b[0mself\u001b[0m\u001b[0;34m.\u001b[0m\u001b[0mgateway_client\u001b[0m\u001b[0;34m.\u001b[0m\u001b[0msend_command\u001b[0m\u001b[0;34m(\u001b[0m\u001b[0mcommand\u001b[0m\u001b[0;34m)\u001b[0m\u001b[0;34m\u001b[0m\u001b[0;34m\u001b[0m\u001b[0m\n\u001b[1;32m   1304\u001b[0m         return_value = get_return_value(\n\u001b[0;32m-> 1305\u001b[0;31m             answer, self.gateway_client, self.target_id, self.name)\n\u001b[0m\u001b[1;32m   1306\u001b[0m \u001b[0;34m\u001b[0m\u001b[0m\n\u001b[1;32m   1307\u001b[0m         \u001b[0;32mfor\u001b[0m \u001b[0mtemp_arg\u001b[0m \u001b[0;32min\u001b[0m \u001b[0mtemp_args\u001b[0m\u001b[0;34m:\u001b[0m\u001b[0;34m\u001b[0m\u001b[0;34m\u001b[0m\u001b[0m\n",
      "\u001b[0;32m/opt/spark3/python/pyspark/sql/utils.py\u001b[0m in \u001b[0;36mdeco\u001b[0;34m(*a, **kw)\u001b[0m\n\u001b[1;32m    115\u001b[0m                 \u001b[0;31m# Hide where the exception came from that shows a non-Pythonic\u001b[0m\u001b[0;34m\u001b[0m\u001b[0;34m\u001b[0m\u001b[0;34m\u001b[0m\u001b[0m\n\u001b[1;32m    116\u001b[0m                 \u001b[0;31m# JVM exception message.\u001b[0m\u001b[0;34m\u001b[0m\u001b[0;34m\u001b[0m\u001b[0;34m\u001b[0m\u001b[0m\n\u001b[0;32m--> 117\u001b[0;31m                 \u001b[0;32mraise\u001b[0m \u001b[0mconverted\u001b[0m \u001b[0;32mfrom\u001b[0m \u001b[0;32mNone\u001b[0m\u001b[0;34m\u001b[0m\u001b[0;34m\u001b[0m\u001b[0m\n\u001b[0m\u001b[1;32m    118\u001b[0m             \u001b[0;32melse\u001b[0m\u001b[0;34m:\u001b[0m\u001b[0;34m\u001b[0m\u001b[0;34m\u001b[0m\u001b[0m\n\u001b[1;32m    119\u001b[0m                 \u001b[0;32mraise\u001b[0m\u001b[0;34m\u001b[0m\u001b[0;34m\u001b[0m\u001b[0m\n",
      "\u001b[0;31mAnalysisException\u001b[0m: partition column year is not defined in table twitter_data.tweets_more_than_50, defined table columns are: hour, tweets_count, earliest_created_at"
     ]
    }
   ],
   "source": [
    "spark.sql(\"\"\"\n",
    "CREATE TABLE IF NOT EXISTS twitter_data.tweets_more_than_50 (\n",
    "    hour INT,\n",
    "    tweets_count INT,\n",
    "    earliest_created_at TIMESTAMP\n",
    ") PARTITIONED BY (year , month , day )\n",
    "STORED AS PARQUET\n",
    "LOCATION '/FileStore/twitter_data/tweets_more_than_50';\n",
    "\"\"\")\n",
    "\n",
    "spark.sql(\"\"\"\n",
    "INSERT OVERWRITE TABLE twitter_data.tweets_more_than_50\n",
    "PARTITION (year, month, day)\n",
    "SELECT\n",
    "    hour,\n",
    "    COUNT(*) AS tweets_count,\n",
    "    year(created_at) AS year,\n",
    "    month(created_at) AS month,\n",
    "    day(created_at) AS day,\n",
    "    MIN(created_at) AS earliest_created_at\n",
    "FROM twitter_data.tweets_dim\n",
    "GROUP BY hour, year, month, day\n",
    "HAVING COUNT(*) > 50\n",
    "\"\"\")\n"
   ]
  },
  {
   "cell_type": "code",
   "execution_count": 16,
   "id": "832c0997-4832-4bfb-9917-3a3c0e13afba",
   "metadata": {},
   "outputs": [
    {
     "data": {
      "text/html": [
       "<table border='1'>\n",
       "<tr><th></th></tr>\n",
       "</table>\n"
      ],
      "text/plain": [
       "++\n",
       "||\n",
       "++\n",
       "++"
      ]
     },
     "execution_count": 16,
     "metadata": {},
     "output_type": "execute_result"
    }
   ],
   "source": [
    "spark.sql(\"\"\"\n",
    "CREATE TABLE IF NOT EXISTS twitter_data.tweet_matrix_raw (\n",
    "    id String ,\n",
    "    retweet_count INT,\n",
    "    reply_count INT,\n",
    "    like_count INT,\n",
    "    quote_count INT\n",
    ") PARTITIONED BY (year INT, month INT, day INT, hour INT)\n",
    "STORED AS PARQUET\n",
    "LOCATION '/FileStore/twitter_data/tweet_matrix_raw';\n",
    "\"\"\")\n"
   ]
  },
  {
   "cell_type": "code",
   "execution_count": 17,
   "id": "6f404398-3a08-4fd6-8900-479eb95e2907",
   "metadata": {},
   "outputs": [
    {
     "data": {
      "text/html": [
       "<table border='1'>\n",
       "<tr><th></th></tr>\n",
       "</table>\n"
      ],
      "text/plain": [
       "++\n",
       "||\n",
       "++\n",
       "++"
      ]
     },
     "execution_count": 17,
     "metadata": {},
     "output_type": "execute_result"
    }
   ],
   "source": [
    "\n",
    "spark.sql(\"\"\"\n",
    "INSERT OVERWRITE TABLE  twitter_data.tweet_matrix_raw\n",
    "PARTITION (year, month, day, hour)\n",
    "SELECT id, retweet_count, reply_count, like_count, quote_count, \n",
    "  year(created_at) as year, month(created_at) as month, day(created_at) as day, hour(created_at) as hour\n",
    "FROM twitter_data.tweets;\n",
    "\"\"\")"
   ]
  },
  {
   "cell_type": "code",
   "execution_count": 18,
   "id": "deff230a-a00d-47ab-9834-d68462c528aa",
   "metadata": {},
   "outputs": [
    {
     "data": {
      "text/html": [
       "<table border='1'>\n",
       "<tr><th>id</th><th>retweet_count</th><th>reply_count</th><th>like_count</th><th>quote_count</th><th>year</th><th>month</th><th>day</th><th>hour</th></tr>\n",
       "<tr><td>1654239167377817603</td><td>65</td><td>0</td><td>0</td><td>0</td><td>2023</td><td>5</td><td>4</td><td>21</td></tr>\n",
       "<tr><td>1654239164462669833</td><td>26</td><td>0</td><td>0</td><td>0</td><td>2023</td><td>5</td><td>4</td><td>21</td></tr>\n",
       "<tr><td>1654239162386591745</td><td>41</td><td>0</td><td>0</td><td>0</td><td>2023</td><td>5</td><td>4</td><td>21</td></tr>\n",
       "</table>\n"
      ],
      "text/plain": [
       "+-------------------+-------------+-----------+----------+-----------+----+-----+---+----+\n",
       "|                 id|retweet_count|reply_count|like_count|quote_count|year|month|day|hour|\n",
       "+-------------------+-------------+-----------+----------+-----------+----+-----+---+----+\n",
       "|1654239167377817603|           65|          0|         0|          0|2023|    5|  4|  21|\n",
       "|1654239164462669833|           26|          0|         0|          0|2023|    5|  4|  21|\n",
       "|1654239162386591745|           41|          0|         0|          0|2023|    5|  4|  21|\n",
       "+-------------------+-------------+-----------+----------+-----------+----+-----+---+----+"
      ]
     },
     "execution_count": 18,
     "metadata": {},
     "output_type": "execute_result"
    }
   ],
   "source": [
    "spark.sql(\"\"\"\n",
    "select * from twitter_data.tweet_matrix_raw\n",
    "limit 3\n",
    "\"\"\")"
   ]
  },
  {
   "cell_type": "code",
   "execution_count": 19,
   "id": "4a78a4e3-af59-4f33-8b64-e711d75f03b2",
   "metadata": {},
   "outputs": [
    {
     "data": {
      "text/html": [
       "<table border='1'>\n",
       "<tr><th></th></tr>\n",
       "</table>\n"
      ],
      "text/plain": [
       "++\n",
       "||\n",
       "++\n",
       "++"
      ]
     },
     "execution_count": 19,
     "metadata": {},
     "output_type": "execute_result"
    }
   ],
   "source": [
    "spark.sql(\"\"\"\n",
    "CREATE TABLE IF NOT EXISTS twitter_data.tweets_count_raw (\n",
    "    hour INT,\n",
    "    tweets_count INT\n",
    ") PARTITIONED BY (year INT, month INT, day INT)\n",
    "STORED AS PARQUET\n",
    "LOCATION '/FileStore/twitter_data/tweets_count_raw';\n",
    "\"\"\")\n"
   ]
  },
  {
   "cell_type": "code",
   "execution_count": 20,
   "id": "a2c7a180-28f3-46f4-aef7-62651e42b7ee",
   "metadata": {},
   "outputs": [
    {
     "data": {
      "text/html": [
       "<table border='1'>\n",
       "<tr><th></th></tr>\n",
       "</table>\n"
      ],
      "text/plain": [
       "++\n",
       "||\n",
       "++\n",
       "++"
      ]
     },
     "execution_count": 20,
     "metadata": {},
     "output_type": "execute_result"
    }
   ],
   "source": [
    "spark.sql(\"\"\"\n",
    "INSERT OVERWRITE TABLE twitter_data.tweets_count_raw\n",
    "PARTITION (year, month, day)\n",
    "SELECT \n",
    "  HOUR(CAST(t.created_at AS TIMESTAMP)) AS hour,\n",
    "  COUNT(1) AS tweets_count,\n",
    "  YEAR(CAST(t.created_at AS DATE)) AS year,\n",
    "  MONTH(CAST(t.created_at AS DATE)) AS month,\n",
    "  DAY(CAST(t.created_at AS DATE)) AS day\n",
    "FROM twitter_data.tweets t\n",
    "GROUP BY HOUR(CAST(t.created_at AS TIMESTAMP)), YEAR(CAST(t.created_at AS DATE)), MONTH(CAST(t.created_at AS DATE)), DAY(CAST(t.created_at AS DATE))\n",
    "\"\"\")"
   ]
  },
  {
   "cell_type": "code",
   "execution_count": 21,
   "id": "f2fac384-5ef0-41d5-8115-07e6d629b78a",
   "metadata": {},
   "outputs": [
    {
     "data": {
      "text/html": [
       "<table border='1'>\n",
       "<tr><th>hour</th><th>tweets_count</th><th>year</th><th>month</th><th>day</th></tr>\n",
       "<tr><td>21</td><td>14300</td><td>2023</td><td>5</td><td>4</td></tr>\n",
       "</table>\n"
      ],
      "text/plain": [
       "+----+------------+----+-----+---+\n",
       "|hour|tweets_count|year|month|day|\n",
       "+----+------------+----+-----+---+\n",
       "|  21|       14300|2023|    5|  4|\n",
       "+----+------------+----+-----+---+"
      ]
     },
     "execution_count": 21,
     "metadata": {},
     "output_type": "execute_result"
    }
   ],
   "source": [
    "spark.sql(\"\"\"\n",
    "select * from twitter_data.tweets_count_raw\n",
    "limit 1\n",
    "\"\"\")"
   ]
  },
  {
   "cell_type": "code",
   "execution_count": 22,
   "id": "90c51dff-ac1b-4b12-a10b-4dcdeea0b112",
   "metadata": {},
   "outputs": [
    {
     "data": {
      "text/html": [
       "<table border='1'>\n",
       "<tr><th></th></tr>\n",
       "</table>\n"
      ],
      "text/plain": [
       "++\n",
       "||\n",
       "++\n",
       "++"
      ]
     },
     "execution_count": 22,
     "metadata": {},
     "output_type": "execute_result"
    }
   ],
   "source": [
    "spark.sql(\"\"\"\n",
    "CREATE TABLE IF NOT EXISTS twitter_data.most_active_hour_raw (\n",
    "    hour INT,\n",
    "    tweets_count INT\n",
    ") PARTITIONED BY (year INT, month INT, day INT)\n",
    "STORED AS PARQUET\n",
    "LOCATION '/FileStore/twitter_data/most_active_hour_raw';\n",
    "\"\"\")\n",
    "\n",
    "\n",
    "\n"
   ]
  },
  {
   "cell_type": "code",
   "execution_count": 23,
   "id": "15e6a56d-fd74-4190-be7b-885bf0490760",
   "metadata": {},
   "outputs": [
    {
     "data": {
      "text/html": [
       "<table border='1'>\n",
       "<tr><th></th></tr>\n",
       "</table>\n"
      ],
      "text/plain": [
       "++\n",
       "||\n",
       "++\n",
       "++"
      ]
     },
     "execution_count": 23,
     "metadata": {},
     "output_type": "execute_result"
    }
   ],
   "source": [
    "spark.sql(\"\"\"\n",
    "INSERT OVERWRITE TABLE twitter_data.most_active_hour_raw\n",
    "PARTITION (year, month, day)\n",
    "SELECT hour(created_at) AS hour,\n",
    "COUNT(*) AS tweets_count,\n",
    "YEAR(created_at) AS year,\n",
    "MONTH(created_at) AS month,\n",
    "DAY(created_at) AS day\n",
    "FROM twitter_data.tweets\n",
    "GROUP BY hour(created_at), YEAR(created_at), MONTH(created_at), DAY(created_at);\n",
    "\"\"\")"
   ]
  },
  {
   "cell_type": "code",
   "execution_count": 24,
   "id": "5663d0ec-bcb7-4987-9f04-6b7d71099cf8",
   "metadata": {},
   "outputs": [
    {
     "data": {
      "text/html": [
       "<table border='1'>\n",
       "<tr><th>hour</th><th>tweets_count</th><th>year</th><th>month</th><th>day</th></tr>\n",
       "<tr><td>21</td><td>14300</td><td>2023</td><td>5</td><td>4</td></tr>\n",
       "</table>\n"
      ],
      "text/plain": [
       "+----+------------+----+-----+---+\n",
       "|hour|tweets_count|year|month|day|\n",
       "+----+------------+----+-----+---+\n",
       "|  21|       14300|2023|    5|  4|\n",
       "+----+------------+----+-----+---+"
      ]
     },
     "execution_count": 24,
     "metadata": {},
     "output_type": "execute_result"
    }
   ],
   "source": [
    "spark.sql(\"\"\"\n",
    "select * from twitter_data.most_active_hour_raw\n",
    "limit 3\n",
    "\"\"\")"
   ]
  },
  {
   "cell_type": "code",
   "execution_count": 25,
   "id": "c17d700c-2469-4218-947e-f0af75a8d24d",
   "metadata": {},
   "outputs": [
    {
     "data": {
      "text/html": [
       "<table border='1'>\n",
       "<tr><th></th></tr>\n",
       "</table>\n"
      ],
      "text/plain": [
       "++\n",
       "||\n",
       "++\n",
       "++"
      ]
     },
     "execution_count": 25,
     "metadata": {},
     "output_type": "execute_result"
    }
   ],
   "source": [
    "spark.sql(\"\"\"\n",
    "CREATE TABLE IF NOT EXISTS twitter_data.tweets_more_than_50_raw (\n",
    "    hour INT,\n",
    "    tweets_count INT\n",
    ") PARTITIONED BY (year INT, month INT, day INT)\n",
    "STORED AS PARQUET\n",
    "LOCATION '/FileStore/twitter_data/tweets_more_than_50_raw';\n",
    "\"\"\")\n",
    "spark.sql(\"\"\"\n",
    "INSERT OVERWRITE TABLE twitter_data.tweets_more_than_50_raw\n",
    "PARTITION (year, month, day)\n",
    "SELECT hour(created_at) as hour, COUNT(*) as tweets_count, \n",
    "  year(created_at) as year, month(created_at) as month, day(created_at) as day\n",
    "FROM twitter_data.tweets\n",
    "GROUP BY year(created_at), month(created_at), day(created_at), hour(created_at)\n",
    "HAVING COUNT(*) > 50;\n",
    "\"\"\")"
   ]
  },
  {
   "cell_type": "code",
   "execution_count": 26,
   "id": "76bf2bba-6eee-45d6-aed5-68c407dd3c0c",
   "metadata": {},
   "outputs": [
    {
     "data": {
      "text/html": [
       "<table border='1'>\n",
       "<tr><th>hour</th><th>tweets_count</th><th>year</th><th>month</th><th>day</th></tr>\n",
       "<tr><td>21</td><td>14300</td><td>2023</td><td>5</td><td>4</td></tr>\n",
       "</table>\n"
      ],
      "text/plain": [
       "+----+------------+----+-----+---+\n",
       "|hour|tweets_count|year|month|day|\n",
       "+----+------------+----+-----+---+\n",
       "|  21|       14300|2023|    5|  4|\n",
       "+----+------------+----+-----+---+"
      ]
     },
     "execution_count": 26,
     "metadata": {},
     "output_type": "execute_result"
    }
   ],
   "source": [
    "spark.sql(\"\"\"\n",
    "select * from twitter_data.tweets_more_than_50_raw\n",
    "WHERE tweets_count > 50\n",
    "limit 3\n",
    "\"\"\")\n"
   ]
  },
  {
   "cell_type": "code",
   "execution_count": 27,
   "id": "019e99ef-4c92-4b0e-ba21-613393323236",
   "metadata": {},
   "outputs": [
    {
     "data": {
      "text/html": [
       "<table border='1'>\n",
       "<tr><th></th></tr>\n",
       "</table>\n"
      ],
      "text/plain": [
       "++\n",
       "||\n",
       "++\n",
       "++"
      ]
     },
     "execution_count": 27,
     "metadata": {},
     "output_type": "execute_result"
    }
   ],
   "source": [
    "spark.sql(\"\"\"\n",
    "\n",
    "CREATE TABLE IF NOT EXISTS twitter_data.tweet_count_hourly (\n",
    "    year INT,\n",
    "    month INT,\n",
    "    day INT,\n",
    "    hour INT,\n",
    "    tweet_count INT\n",
    ") STORED AS PARQUET\n",
    "LOCATION '/FileStore/twitter_data/tweet_count_hourly';\n",
    "\n",
    "\"\"\")\n",
    "\n"
   ]
  },
  {
   "cell_type": "code",
   "execution_count": 28,
   "id": "383cd268-8b78-4a30-870b-bebade4a2c44",
   "metadata": {},
   "outputs": [
    {
     "data": {
      "text/html": [
       "<table border='1'>\n",
       "<tr><th></th></tr>\n",
       "</table>\n"
      ],
      "text/plain": [
       "++\n",
       "||\n",
       "++\n",
       "++"
      ]
     },
     "execution_count": 28,
     "metadata": {},
     "output_type": "execute_result"
    }
   ],
   "source": [
    "spark.sql(\"\"\"\n",
    "\n",
    "INSERT OVERWRITE TABLE twitter_data.tweet_count_hourly\n",
    "SELECT\n",
    "    year(created_at) AS year,\n",
    "    month(created_at) AS month,\n",
    "    day(created_at) AS day,\n",
    "    hour(created_at) AS hour,\n",
    "    COUNT(*) AS tweet_count\n",
    "FROM twitter_data.tweets\n",
    "GROUP BY year(created_at), month(created_at), day(created_at), hour(created_at);\n",
    "\"\"\")\n"
   ]
  },
  {
   "cell_type": "code",
   "execution_count": 29,
   "id": "82f33a6d-b31a-4851-b2db-4cfc9a564361",
   "metadata": {},
   "outputs": [
    {
     "data": {
      "text/html": [
       "<table border='1'>\n",
       "<tr><th>year</th><th>month</th><th>day</th><th>hour</th><th>tweet_count</th></tr>\n",
       "<tr><td>2023</td><td>5</td><td>4</td><td>21</td><td>14300</td></tr>\n",
       "</table>\n"
      ],
      "text/plain": [
       "+----+-----+---+----+-----------+\n",
       "|year|month|day|hour|tweet_count|\n",
       "+----+-----+---+----+-----------+\n",
       "|2023|    5|  4|  21|      14300|\n",
       "+----+-----+---+----+-----------+"
      ]
     },
     "execution_count": 29,
     "metadata": {},
     "output_type": "execute_result"
    }
   ],
   "source": [
    "spark.sql(\"\"\"\n",
    "select * from twitter_data.tweet_count_hourly\n",
    "limit 3\n",
    "\"\"\")\n"
   ]
  },
  {
   "cell_type": "code",
   "execution_count": 30,
   "id": "f3d926f2-c8b7-4ad3-8323-1bffc7ccd3a5",
   "metadata": {},
   "outputs": [
    {
     "data": {
      "text/html": [
       "<table border='1'>\n",
       "<tr><th></th></tr>\n",
       "</table>\n"
      ],
      "text/plain": [
       "++\n",
       "||\n",
       "++\n",
       "++"
      ]
     },
     "execution_count": 30,
     "metadata": {},
     "output_type": "execute_result"
    }
   ],
   "source": [
    "spark.sql(\"\"\"\n",
    "CREATE TABLE IF NOT EXISTS twitter_data.top_10_retweeted_tweets_fact (\n",
    "    tweet_id string,\n",
    "    text STRING,\n",
    "    retweet_count INT\n",
    ") STORED AS PARQUET\n",
    "LOCATION '/FileStore/twitter_data/top_10_retweeted_tweets_fact';\n",
    "\"\"\")\n"
   ]
  },
  {
   "cell_type": "code",
   "execution_count": 33,
   "id": "b871c0cd-a3ba-4d0c-b0fb-889d8a886024",
   "metadata": {},
   "outputs": [],
   "source": [
    "spark.sql(\"\"\"\n",
    "INSERT INTO twitter_data.top_10_retweeted_tweets_fact\n",
    "SELECT CAST(id AS STRING) AS tweet_id, text, retweet_count\n",
    "FROM twitter_data.tweets\n",
    "ORDER BY retweet_count DESC\n",
    "LIMIT 10;\n",
    "\"\"\")\n"
   ]
  },
  {
   "cell_type": "code",
   "execution_count": null,
   "id": "ab8a5ead-5652-46c8-a2e5-a4f09b4cebf9",
   "metadata": {},
   "outputs": [],
   "source": []
  },
  {
   "cell_type": "code",
   "execution_count": null,
   "id": "84b4af58-6376-472c-9dd1-1f794bd91da1",
   "metadata": {},
   "outputs": [],
   "source": []
  },
  {
   "cell_type": "code",
   "execution_count": null,
   "id": "50409c36-b546-4a87-8941-61a347e4bd46",
   "metadata": {},
   "outputs": [],
   "source": []
  }
 ],
 "metadata": {
  "kernelspec": {
   "display_name": "Pyspark 3",
   "language": "python",
   "name": "pyspark3"
  },
  "language_info": {
   "codemirror_mode": {
    "name": "ipython",
    "version": 3
   },
   "file_extension": ".py",
   "mimetype": "text/x-python",
   "name": "python",
   "nbconvert_exporter": "python",
   "pygments_lexer": "ipython3",
   "version": "3.6.9"
  }
 },
 "nbformat": 4,
 "nbformat_minor": 5
}
